{
 "cells": [
  {
   "cell_type": "markdown",
   "id": "82c45bcb",
   "metadata": {},
   "source": [
    " ## Практическое задание Урок 2"
   ]
  },
  {
   "cell_type": "markdown",
   "id": "480989bd",
   "metadata": {},
   "source": [
    "###  _1.__ Представьте в виде __несократимой__ рациональной дроби:\n",
    "\n",
    "### $$а)\\,\\,\\, 0.(216);$$\n",
    "\n",
    "### $$б)\\,\\,\\, 1.0(01).$$"
   ]
  },
  {
   "cell_type": "markdown",
   "id": "12b4ae78",
   "metadata": {},
   "source": [
    "# $$a=0.(216)$$\n",
    "\n",
    "### $$1000a=216.(216)$$\n",
    "\n",
    "### $$1000a=216+0.(216)$$\n",
    "\n",
    "### $$1000a=216+a$$\n",
    "\n",
    "### $$999a=216$$\n",
    "\n",
    "### $$a=\\frac{216}{999}=\\frac{8}{37}$$\n",
    "\n",
    "### $$0.(216)=\\frac{8}{37}$$"
   ]
  },
  {
   "cell_type": "code",
   "execution_count": 4,
   "id": "fd135f92",
   "metadata": {},
   "outputs": [
    {
     "name": "stdout",
     "output_type": "stream",
     "text": [
      "0.21621621621621623\n"
     ]
    }
   ],
   "source": [
    "print (8 / 37)"
   ]
  },
  {
   "cell_type": "markdown",
   "id": "c4d6ff83",
   "metadata": {},
   "source": [
    "# $$a=1.0(01)$$\n",
    "\n",
    "### $$10a=10.(01)$$\n",
    "\n",
    "### $$10a=10+0.(01)$$\n",
    "\n",
    "### $$10a=10+\\frac{1}{99}$$\n",
    "\n",
    "### $$a=1+\\frac{1}{990}$$\n",
    "\n",
    "### $$a=\\frac{991}{990}=1\\frac{1}{990}$$\n"
   ]
  },
  {
   "cell_type": "code",
   "execution_count": 6,
   "id": "ee7e5967",
   "metadata": {},
   "outputs": [
    {
     "name": "stdout",
     "output_type": "stream",
     "text": [
      "1.001010101010101\n"
     ]
    }
   ],
   "source": [
    "print ( 991/ 990)"
   ]
  },
  {
   "cell_type": "markdown",
   "id": "d18963e6",
   "metadata": {},
   "source": [
    "### 3.__ Проверьте любым способ, является ли данные логические формулы тавтологией:\n",
    "\n",
    "### $$a)\\,\\,\\, (A \\vee B) \\rightarrow (B \\vee\\overline A)$$ - не является\n"
   ]
  },
  {
   "cell_type": "markdown",
   "id": "3a8d28e8",
   "metadata": {},
   "source": [
    " <table>\n",
    "<thead>\n",
    "<tr><th>$A$</th><th>$B$</th><th>$A \\vee B$</th><th> $\\overline A$</th><th>$(B\\vee \\overline A)$</th><th>Total</th></tr>\n",
    "</thead>\n",
    "<tbody>\n",
    "    <tr><td>$0$</td><td>$0$</td><td>$0$</td><td>$1$</td><td>$1$</td><td>$1$</td></tr>\n",
    "    <tr><td>$0$</td><td>$1$</td><td>$1$</td><td>$1$</td><td>$1$</td><td>$1$</td></tr>\n",
    "    <tr><td>$1$</td><td>$0$</td><td>$1$</td><td>$0$</td><td>$0$</td><td>$0$</td></tr>\n",
    "    <tr><td>$1$</td><td>$1$</td><td>$1$</td><td>$0$</td><td>$1$</td><td>$1$</td></tr>\n",
    "</tbody>\n",
    "</table>"
   ]
  },
  {
   "cell_type": "markdown",
   "id": "7543d40b",
   "metadata": {},
   "source": [
    "### $$б)\\,\\,\\, A \\rightarrow (A \\vee (\\overline B \\wedge A))$$ - является"
   ]
  },
  {
   "cell_type": "markdown",
   "id": "a753411c",
   "metadata": {},
   "source": [
    "<table>\n",
    "<thead>\n",
    "<tr><th>$A$</th><th>$B$</th><th>$\\overline B$</th><th>$(\\overline B \\wedge A)$</th><th>$(A\\vee(\\overline B \\wedge A)$</th><th>$A \\rightarrow (A \\vee(\\overline B \\wedge A)$ </th></tr>\n",
    "</thead>\n",
    "<tbody>\n",
    "    <tr><td>$0$</td><td>$0$</td><td>$1$</td><td>$0$</td><td>$0$</td><td>$1$</td></tr>\n",
    "    <tr><td>$0$</td><td>$1$</td><td>$0$</td><td>$0$</td><td>$0$</td><td>$1$</td></tr>\n",
    "    <tr><td>$1$</td><td>$0$</td><td>$1$</td><td>$1$</td><td>$1$</td><td>$1$</td></tr>\n",
    "    <tr><td>$1$</td><td>$1$</td><td>$0$</td><td>$0$</td><td>$1$</td><td>$1$</td></tr>\n",
    "</tbody>\n",
    "</table>"
   ]
  },
  {
   "cell_type": "markdown",
   "id": "70f91484",
   "metadata": {},
   "source": [
    "### 4.__ Сформулируйте словесно высказывания:\n",
    "### $$a)\\,\\,\\, (\\overline A \\vee B) \\rightarrow \\overline C$$\n",
    "Если сегодня не будет светит солнце или будет сыро, я не поеду на дачу\n",
    "### $$б)\\,\\,\\, C \\rightarrow (A \\vee \\overline B)$$\n",
    "\n",
    "Я может поеду на дачу, если сегодня будет светит солнце или не будет сыро\n",
    "- $A:\\,\\,\\,$ сегодня светит солнце; \n",
    "- $B:\\,\\,\\,$ сегодня сыро; \n",
    "- $C:\\,\\,\\,$ я поеду на дачу. "
   ]
  },
  {
   "cell_type": "markdown",
   "id": "6f2f3ee2",
   "metadata": {},
   "source": [
    "### 5.__  Пользуясь правилом построения противоположного высказывания, запишите утверждения, противоположные следующим:\n",
    "\n",
    "a) На любом курсе каждого факультета есть студенты, сдающие все экзамены на «отлично».\n",
    "\n",
    "На каждом курсе любого факультета есть студенты, не сдающие все экзамены на \"отлично\"\n",
    "\n",
    "б) В любом самолете на рейсе Вашингтон-Москва присутствует хотя бы один сотрудник силовых органов, в каждой пуговице одежды которого вмонтирован микрофон.\n",
    "\n",
    "Есть такие самолеты на рейсе Вашингтон-Москва в которых нет сотрудников силовых органов, и в их одежду не вмонтирован микрофон. \n"
   ]
  },
  {
   "cell_type": "code",
   "execution_count": null,
   "id": "fe0add1e",
   "metadata": {},
   "outputs": [],
   "source": []
  }
 ],
 "metadata": {
  "kernelspec": {
   "display_name": "Python 3",
   "language": "python",
   "name": "python3"
  },
  "language_info": {
   "codemirror_mode": {
    "name": "ipython",
    "version": 3
   },
   "file_extension": ".py",
   "mimetype": "text/x-python",
   "name": "python",
   "nbconvert_exporter": "python",
   "pygments_lexer": "ipython3",
   "version": "3.8.8"
  }
 },
 "nbformat": 4,
 "nbformat_minor": 5
}
